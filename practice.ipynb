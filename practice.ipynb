{
 "cells": [
  {
   "cell_type": "code",
   "execution_count": 5,
   "metadata": {
    "collapsed": true
   },
   "outputs": [],
   "source": [
    "import pysam, re, os\n",
    "from Bio import SeqIO, Seq\n",
    "import numpy as np"
   ]
  },
  {
   "cell_type": "code",
   "execution_count": 6,
   "metadata": {
    "collapsed": true
   },
   "outputs": [],
   "source": [
    "bam_filename = '/home/rcarter/WORK_WEBBY_CHRISTY2/JUPYTER/pre_deadapter/880570-FMT1_S18/tmpEEypDI.bam'\n",
    "fasta_filename = '/home/rcarter/WORK_WEBBY_CHRISTY2/JUPYTER/pre_deadapter/880570-FMT1_S18/tmp6icc15.fa'\n",
    "min_coverage = 25\n"
   ]
  },
  {
   "cell_type": "code",
   "execution_count": 7,
   "metadata": {
    "collapsed": true
   },
   "outputs": [],
   "source": [
    "bam_obj = pysam.Samfile(bam_filename, 'rb')"
   ]
  },
  {
   "cell_type": "code",
   "execution_count": 8,
   "metadata": {
    "collapsed": false
   },
   "outputs": [],
   "source": [
    "ref_name_to_length_dict = dict(zip(bam_obj.references, bam_obj.lengths))\n",
    "\n",
    "seg_to_seq_string_dict = {}\n",
    "for _seqrec in SeqIO.parse(fasta_filename, \"fasta\"):\n",
    "    seg_to_seq_string_dict[_seqrec.id] = str(_seqrec.seq)"
   ]
  },
  {
   "cell_type": "code",
   "execution_count": 9,
   "metadata": {
    "collapsed": false
   },
   "outputs": [
    {
     "data": {
      "text/plain": [
       "{'HA': 1795,\n",
       " 'M1': 1147,\n",
       " 'NB_NA': 1512,\n",
       " 'NP': 1750,\n",
       " 'NS': 1066,\n",
       " 'PA': 2245,\n",
       " 'PB1': 2334,\n",
       " 'PB2': 2396}"
      ]
     },
     "execution_count": 9,
     "metadata": {},
     "output_type": "execute_result"
    }
   ],
   "source": [
    "ref_name_to_length_dict"
   ]
  },
  {
   "cell_type": "code",
   "execution_count": 10,
   "metadata": {
    "collapsed": false
   },
   "outputs": [],
   "source": [
    "counts = bam_obj.count_coverage(reference = 'HA', start = 0, end = ref_name_to_length_dict['HA'])"
   ]
  },
  {
   "cell_type": "code",
   "execution_count": 11,
   "metadata": {
    "collapsed": false
   },
   "outputs": [],
   "source": [
    "#foo = counts[0]\n",
    "tolower_inds_list = []\n",
    "cov_array = np.asarray(counts)\n",
    "for _i in range(0,cov_array.shape[1]):\n",
    "    if(sum(cov_array[:,_i]) < min_coverage):\n",
    "        tolower_inds_list.append(_i)\n",
    "seq_base_array = list(seg_to_seq_string_dict['HA'])\n",
    "for _ind in tolower_inds_list:\n",
    "    seq_base_array[_ind] = seq_base_array[_ind].lower()\n"
   ]
  },
  {
   "cell_type": "code",
   "execution_count": 50,
   "metadata": {
    "collapsed": false
   },
   "outputs": [
    {
     "data": {
      "text/plain": [
       "Seq('cacaaaatgaaggcaataattgtactactcatggtagtaacatccaatgcagat...TTG', Alphabet())"
      ]
     },
     "execution_count": 50,
     "metadata": {},
     "output_type": "execute_result"
    }
   ],
   "source": [
    "Seq.Seq(\"\".join(seq_base_array))"
   ]
  },
  {
   "cell_type": "code",
   "execution_count": 29,
   "metadata": {
    "collapsed": false
   },
   "outputs": [
    {
     "ename": "TypeError",
     "evalue": "'str' object does not support item assignment",
     "output_type": "error",
     "traceback": [
      "\u001b[0;31m---------------------------------------------------------------------------\u001b[0m",
      "\u001b[0;31mTypeError\u001b[0m                                 Traceback (most recent call last)",
      "\u001b[0;32m<ipython-input-29-8a623ef99641>\u001b[0m in \u001b[0;36m<module>\u001b[0;34m()\u001b[0m\n\u001b[0;32m----> 1\u001b[0;31m \u001b[0mseg_to_seq_string_dict\u001b[0m\u001b[0;34m[\u001b[0m\u001b[0;34m'HA'\u001b[0m\u001b[0;34m]\u001b[0m\u001b[0;34m[\u001b[0m\u001b[0;36m4\u001b[0m\u001b[0;34m]\u001b[0m \u001b[0;34m=\u001b[0m \u001b[0;34m'B'\u001b[0m\u001b[0;34m\u001b[0m\u001b[0m\n\u001b[0m",
      "\u001b[0;31mTypeError\u001b[0m: 'str' object does not support item assignment"
     ]
    }
   ],
   "source": [
    "seg_to_seq_string_dict['HA'][4] = 'B'"
   ]
  },
  {
   "cell_type": "code",
   "execution_count": 19,
   "metadata": {
    "collapsed": false
   },
   "outputs": [
    {
     "data": {
      "text/plain": [
       "[SeqRecord(seq=Seq('gatttgtttagtcactggcaaacagggaaaaatggcgaacaacaacatgaccac...aaa', Alphabet()), id='NS', name='<unknown name>', description='<unknown description>', dbxrefs=[]),\n",
       " SeqRecord(seq=Seq('agatgaatataaatccttattttctcttcatagatgtgcccgtacaggcagcaa...aaa', Alphabet()), id='PB1', name='<unknown name>', description='<unknown description>', dbxrefs=[]),\n",
       " SeqRecord(seq=Seq('agcagaagcggagcgttttcaagatgacattggccaaaattgaattgttaaaac...act', Alphabet()), id='PB2', name='<unknown name>', description='<unknown description>', dbxrefs=[]),\n",
       " SeqRecord(seq=Seq('atggatacttttattacaagaaacttccagactacaataatacaaaaggccaaa...aga', Alphabet()), id='PA', name='<unknown name>', description='<unknown description>', dbxrefs=[]),\n",
       " SeqRecord(seq=Seq('aaatgtcgctgtttggagacacaattgcctacctgctttcattgacagaagatg...GGA', Alphabet()), id='M1', name='<unknown name>', description='<unknown description>', dbxrefs=[]),\n",
       " SeqRecord(seq=Seq('tcaaaactgaagcaaataggccaaaaatgaacaatgctaccttcaactatacaa...gtt', Alphabet()), id='NB_NA', name='<unknown name>', description='<unknown description>', dbxrefs=[]),\n",
       " SeqRecord(seq=Seq('agcaccagtaaaagaactgaaaatcaaaatgtccaacatggatattgacggtat...ATA', Alphabet()), id='NP', name='<unknown name>', description='<unknown description>', dbxrefs=[]),\n",
       " SeqRecord(seq=Seq('cacaaaatgaaggcaataattgtactactcatggtagtaacatccaatgcagat...TTG', Alphabet()), id='HA', name='<unknown name>', description='<unknown description>', dbxrefs=[])]"
      ]
     },
     "execution_count": 19,
     "metadata": {},
     "output_type": "execute_result"
    }
   ],
   "source": [
    "get_lowercase_seq_coverage(bam_filename, fasta_filename, 10)"
   ]
  },
  {
   "cell_type": "code",
   "execution_count": 18,
   "metadata": {
    "collapsed": false
   },
   "outputs": [],
   "source": [
    "def get_lowercase_seq_coverage(bam_filename, fasta_filename, min_coverage = None):\n",
    "    '''\n",
    "    This function reads a bam_filename bam and the corresponding fasta_filename fasta file.\n",
    "    It converts the sequences from the FASTA file to a combination of uppercase and lowercase characters.\n",
    "    Lowercase characters are placed wherever the coverage of the corresponding base is less than min_coverage.\n",
    "    Uppercase characters are placed at all other character positions.\n",
    "\n",
    "    INPUT:\n",
    "\n",
    "    bam_filename: a bam filename that will be used to extract all variable\n",
    "    positions\n",
    "\n",
    "    fasta_filename: a fasta filename containing the reference sequences from\n",
    "    bam_filename. This has to be included because bam files do not store the\n",
    "    reference sequences.\n",
    "\n",
    "    min_coverage: the minimum coverage of a position  in order for it to be considered covered.\n",
    "    if None, then all positions are considered covered\n",
    "\n",
    "    RETURNS:\n",
    "\n",
    "    a dict mapping each sequence name to a seqrecord of the corresponding sequence.\n",
    "    The Seq object in the SeqRecord is converted to the upper/lowercase.\n",
    "    '''\n",
    "\n",
    "    if not os.path.exists(bam_filename):\n",
    "        sys.exit(\"Bam file {} does not exist\".format(bam_filename))\n",
    "    if not os.path.exists(fasta_filename):\n",
    "        sys.exit(\"Fasta file {} does not exist\".format(fasta_filename))\n",
    "    try:\n",
    "        bam_obj = pysam.Samfile(bam_filename, 'rb')\n",
    "    except Exception:\n",
    "        sys.exit(\"Could not load bam file {}\".format(bam_filename))\n",
    "\n",
    "    ref_name_to_length_dict = dict(zip(bam_obj.references, bam_obj.lengths))\n",
    "\n",
    "    seg_to_seq_string_dict = {}\n",
    "    try:\n",
    "        for _seqrec in SeqIO.parse(fasta_filename, \"fasta\"):\n",
    "            seg_to_seq_string_dict[_seqrec.id] = str(_seqrec.seq)\n",
    "    except Exception:\n",
    "        sys.exit(\"Could not parse \" + fasta_filename)\n",
    "\n",
    "    seqrec_list = []\n",
    "    for _refname in seg_to_seq_string_dict.keys():\n",
    "        tolower_inds_list = []\n",
    "        counts = bam_obj.count_coverage(reference = _refname, start = 0, end = ref_name_to_length_dict[_refname])\n",
    "        cov_array = np.asarray(counts)\n",
    "        for _i in range(0,cov_array.shape[1]):\n",
    "            if(sum(cov_array[:,_i]) < min_coverage):\n",
    "                tolower_inds_list.append(_i)\n",
    "                seq_base_array = list(seg_to_seq_string_dict[_refname])\n",
    "                for _ind in tolower_inds_list:\n",
    "                    seq_base_array[_ind] = seq_base_array[_ind].lower()\n",
    "        seqrec_list.append(SeqRecord.SeqRecord(seq = Seq.Seq(\"\".join(seq_base_array)), id = _refname))\n",
    "    return seqrec_list\n"
   ]
  },
  {
   "cell_type": "code",
   "execution_count": null,
   "metadata": {
    "collapsed": true
   },
   "outputs": [],
   "source": []
  }
 ],
 "metadata": {
  "kernelspec": {
   "display_name": "Python 2",
   "language": "python",
   "name": "python2"
  },
  "language_info": {
   "codemirror_mode": {
    "name": "ipython",
    "version": 2
   },
   "file_extension": ".py",
   "mimetype": "text/x-python",
   "name": "python",
   "nbconvert_exporter": "python",
   "pygments_lexer": "ipython2",
   "version": "2.7.12"
  }
 },
 "nbformat": 4,
 "nbformat_minor": 0
}
