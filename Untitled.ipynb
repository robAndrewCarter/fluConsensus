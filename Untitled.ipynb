{
 "cells": [
  {
   "cell_type": "code",
   "execution_count": 1,
   "metadata": {
    "collapsed": true
   },
   "outputs": [],
   "source": [
    "import pandas as pd\n",
    "from fluConsensus import command_runner\n",
    "from fluConsensus import run_settings\n",
    "import pytest, os, sys, tempfile\n",
    "from Bio import SeqIO, SeqRecord, Seq\n"
   ]
  },
  {
   "cell_type": "code",
   "execution_count": 17,
   "metadata": {
    "collapsed": false
   },
   "outputs": [],
   "source": [
    "\n",
    "run_settings.init(sample_name = 'test', work_dir = module_dir,\n",
    "                  reference_filename = os.path.join(module_dir, ref_filename), fastq_filenames_list =\n",
    "                  [os.path.join(module_dir, fwd_fastq_filename),\n",
    "                   os.path.join(module_dir, rev_fastq_filename)], threshold =\n",
    "                  0.5, min_correction_coverage = 2 )\n"
   ]
  },
  {
   "cell_type": "code",
   "execution_count": 15,
   "metadata": {
    "collapsed": false
   },
   "outputs": [],
   "source": [
    "ref_filename = \"test_na_ref.fa\"\n",
    "fwd_fastq_filename = \"test_na_variant_seq_1.fastq\"\n",
    "rev_fastq_filename = \"test_na_variant_seq_2.fastq\"\n",
    "module_dir = os.path.abspath('test')"
   ]
  },
  {
   "cell_type": "code",
   "execution_count": 19,
   "metadata": {
    "collapsed": false
   },
   "outputs": [
    {
     "data": {
      "text/plain": [
       "{'bin_dir': '/home/rob/Dropbox/python_package_dev/fluConsensus/external',\n",
       " 'fastq_filenames_list': ['/home/rob/Dropbox/python_package_dev/fluConsensus/test/test_na_variant_seq_1.fastq',\n",
       "  '/home/rob/Dropbox/python_package_dev/fluConsensus/test/test_na_variant_seq_2.fastq'],\n",
       " 'min_correction_coverage': 2,\n",
       " 'reference_filename': '/home/rob/Dropbox/python_package_dev/fluConsensus/test/test_na_ref.fa',\n",
       " 'sample_name': 'test',\n",
       " 'temp_dir': '/home/rob/Dropbox/python_package_dev/fluConsensus/test/test',\n",
       " 'threshold': 0.5,\n",
       " 'work_dir': '/home/rob/Dropbox/python_package_dev/fluConsensus/test'}"
      ]
     },
     "execution_count": 19,
     "metadata": {},
     "output_type": "execute_result"
    }
   ],
   "source": [
    "run_settings.global_args"
   ]
  },
  {
   "cell_type": "code",
   "execution_count": 21,
   "metadata": {
    "collapsed": false
   },
   "outputs": [
    {
     "name": "stdout",
     "output_type": "stream",
     "text": [
      "/home/rob/Dropbox/python_package_dev/fluConsensus/test/test\n"
     ]
    }
   ],
   "source": [
    " test_bam_filename = command_runner.align_sequences(run_settings.global_args['fastq_filenames_list'],\n",
    "                                   run_settings.global_args['reference_filename'])\n"
   ]
  },
  {
   "cell_type": "code",
   "execution_count": 13,
   "metadata": {
    "collapsed": false
   },
   "outputs": [
    {
     "data": {
      "text/plain": [
       "'/home/rob/Dropbox/python_package_dev/fluConsensus'"
      ]
     },
     "execution_count": 13,
     "metadata": {},
     "output_type": "execute_result"
    }
   ],
   "source": [
    "module_dir"
   ]
  },
  {
   "cell_type": "code",
   "execution_count": 14,
   "metadata": {
    "collapsed": false
   },
   "outputs": [
    {
     "data": {
      "text/plain": [
       "'/home/rob/Dropbox/python_package_dev/fluConsensus/test'"
      ]
     },
     "execution_count": 14,
     "metadata": {},
     "output_type": "execute_result"
    }
   ],
   "source": [
    "os.path.abspath('test')"
   ]
  }
 ],
 "metadata": {
  "kernelspec": {
   "display_name": "Python 2",
   "language": "python",
   "name": "python2"
  },
  "language_info": {
   "codemirror_mode": {
    "name": "ipython",
    "version": 2
   },
   "file_extension": ".py",
   "mimetype": "text/x-python",
   "name": "python",
   "nbconvert_exporter": "python",
   "pygments_lexer": "ipython2",
   "version": "2.7.12"
  }
 },
 "nbformat": 4,
 "nbformat_minor": 0
}
